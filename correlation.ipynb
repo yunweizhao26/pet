{
 "cells": [
  {
   "cell_type": "code",
   "execution_count": 82,
   "metadata": {
    "collapsed": true
   },
   "outputs": [],
   "source": [
    "import json\n",
    "import collections\n",
    "import numpy as np\n",
    "import scipy.stats\n",
    "\n",
    "rte_rbt_large = \"./experiments/rte/roberta-large/supervised/\"\n",
    "rte_rbt_base = \"./experiments/rte/roberta-base/supervised/\"\n",
    "setup_name = \"32shots-p{}-i0-seed42/\"\n",
    "num_prompts = 10\n",
    "i = 2"
   ]
  },
  {
   "cell_type": "code",
   "execution_count": 83,
   "outputs": [],
   "source": [
    "def read_logits(address: str):\n",
    "    logits_true, logits_false = [], []\n",
    "    with open(address) as f:\n",
    "        for line in f:\n",
    "            logits = line.strip('\\n').split()\n",
    "            logits_true.append(float(logits[0]))\n",
    "            logits_false.append(float(logits[1]))\n",
    "    return logits_true, logits_false\n",
    "\n",
    "def read_predictions(address: str, logits_true, logits_false):\n",
    "    ln_idx_pred = dict()\n",
    "    ln = 0\n",
    "    with open(address) as f:\n",
    "        for line in f:\n",
    "            ln_dict = json.loads(line.strip('\\n'))\n",
    "            # if ln_dict['idx'] in ln_idx_pred.keys():\n",
    "            #     print(\"fuck!\")\n",
    "            if ln_dict['label'] == \"entailment\":\n",
    "                label = 1\n",
    "            elif ln_dict['label'] == \"not_entailment\":\n",
    "                label = -1\n",
    "            ln_idx_pred[ln] = (ln_dict['idx'], logits_true[ln], logits_false[ln], label)\n",
    "            ln += 1\n",
    "    return ln_idx_pred\n",
    "\n",
    "def get_logits_each_line(split1_dict, split2_dict):\n",
    "    split1_t, split2_t, split1_f, split2_f, split1_label, split2_label = [], [], [], [], [], []\n",
    "    for ln, (idx, t, f, label) in split1_dict.items():\n",
    "        split1_t.append(t)\n",
    "        split1_f.append(f)\n",
    "        split1_label.append(label)\n",
    "        split2_t.append(split2_dict[ln][1])\n",
    "        split2_f.append(split2_dict[ln][2])\n",
    "        split2_label.append(split2_dict[ln][3])\n",
    "\n",
    "    return split1_t, split2_t, split1_f, split2_f, split1_label, split2_label"
   ],
   "metadata": {
    "collapsed": false
   }
  },
  {
   "cell_type": "code",
   "execution_count": 83,
   "outputs": [],
   "source": [],
   "metadata": {
    "collapsed": false
   }
  },
  {
   "cell_type": "code",
   "execution_count": 84,
   "outputs": [],
   "source": [
    "dev1_true, dev1_false = read_logits(rte_rbt_large + setup_name.format(i) + \"dev_eval_logits.txt\")\n",
    "dev1_ln_tuple_dict = read_predictions(rte_rbt_large + setup_name.format(i) + \"dev_predictions.jsonl\", dev1_true, dev1_false)\n",
    "test1_true, test1_false = read_logits(rte_rbt_large + setup_name.format(i) + \"test_eval_logits.txt\")\n",
    "test1_ln_tuple_dict = read_predictions(rte_rbt_large + setup_name.format(i) + \"test_predictions.jsonl\", test1_true, test1_false)\n",
    "\n",
    "dev2_true, dev2_false = read_logits(rte_rbt_base + setup_name.format(i) + \"dev_eval_logits.txt\")\n",
    "dev2_ln_tuple_dict = read_predictions(rte_rbt_base + setup_name.format(i) + \"dev_predictions.jsonl\", dev2_true, dev2_false)\n",
    "test2_true, test2_false = read_logits(rte_rbt_base + setup_name.format(i) + \"test_eval_logits.txt\")\n",
    "test2_ln_tuple_dict = read_predictions(rte_rbt_base + setup_name.format(i) + \"test_predictions.jsonl\", test2_true, test2_false)"
   ],
   "metadata": {
    "collapsed": false
   }
  },
  {
   "cell_type": "code",
   "execution_count": 85,
   "outputs": [
    {
     "data": {
      "text/plain": "True"
     },
     "execution_count": 85,
     "metadata": {},
     "output_type": "execute_result"
    }
   ],
   "source": [
    "# Dev and test sets are fixed across different GPUs by the seed=42, since idxs are the same (changed the read_predictions function)\n",
    "dev1_ln_tuple_dict.keys() == dev2_ln_tuple_dict.keys()"
   ],
   "metadata": {
    "collapsed": false
   }
  },
  {
   "cell_type": "code",
   "execution_count": 85,
   "outputs": [],
   "source": [],
   "metadata": {
    "collapsed": false
   }
  },
  {
   "cell_type": "code",
   "execution_count": 86,
   "outputs": [],
   "source": [
    "dev1_t_line, dev2_t_line, dev1_f_line, dev2_f_line, dev1_label, dev2_label = get_logits_each_line(dev1_ln_tuple_dict, dev2_ln_tuple_dict)\n",
    "test1_t_line, test2_t_line, test1_f_line, test2_f_line, test1_label, test2_label = get_logits_each_line(test1_ln_tuple_dict, test2_ln_tuple_dict)"
   ],
   "metadata": {
    "collapsed": false
   }
  },
  {
   "cell_type": "code",
   "execution_count": 87,
   "outputs": [
    {
     "data": {
      "text/plain": "((-0.02434733047050715, 0.7016510856412185),\n (0.03710187330422014, 0.5592921156559063),\n (0.0814713901366904, 0.1763525526882133),\n (0.07534304488564107, 0.21127571650606472),\n (-0.026866317369767332, 0.6724840726074671),\n (0.05585224629329761, 0.3544011817253185))"
     },
     "execution_count": 87,
     "metadata": {},
     "output_type": "execute_result"
    }
   ],
   "source": [
    "# pearsonr\n",
    "roberta_large_roberta_base_pearsonr = (scipy.stats.pearsonr(dev1_t_line, dev2_t_line), scipy.stats.pearsonr(dev1_f_line, dev2_f_line), scipy.stats.pearsonr(test1_t_line, test2_t_line), scipy.stats.pearsonr(test1_f_line, test2_f_line), scipy.stats.pearsonr(dev1_label, dev2_label), scipy.stats.pearsonr(test1_label, test2_label))\n",
    "roberta_large_roberta_base_pearsonr\n"
   ],
   "metadata": {
    "collapsed": false
   }
  },
  {
   "cell_type": "code",
   "execution_count": 88,
   "outputs": [
    {
     "data": {
      "text/plain": "(SpearmanrResult(correlation=-0.008028416454663274, pvalue=0.8994894868640768),\n SpearmanrResult(correlation=0.05638631018096289, pvalue=0.37465675051305447),\n SpearmanrResult(correlation=0.0857488236376838, pvalue=0.15464513999043142),\n SpearmanrResult(correlation=0.07590995168078375, pvalue=0.20785040617123443),\n SpearmanrResult(correlation=-0.02686631736976732, pvalue=0.6724840726075172),\n SpearmanrResult(correlation=0.0558522462932976, pvalue=0.3544011817252347))"
     },
     "execution_count": 88,
     "metadata": {},
     "output_type": "execute_result"
    }
   ],
   "source": [
    "# spearmanr\n",
    "roberta_large_roberta_base_spearmanr = (scipy.stats.spearmanr(dev1_t_line, dev2_t_line), scipy.stats.spearmanr(dev1_f_line, dev2_f_line), scipy.stats.spearmanr(test1_t_line, test2_t_line), scipy.stats.spearmanr(test1_f_line, test2_f_line), scipy.stats.spearmanr(dev1_label, dev2_label), scipy.stats.spearmanr(test1_label, test2_label))\n",
    "roberta_large_roberta_base_spearmanr"
   ],
   "metadata": {
    "collapsed": false
   }
  },
  {
   "cell_type": "code",
   "execution_count": 89,
   "outputs": [
    {
     "data": {
      "text/plain": "(KendalltauResult(correlation=-0.002859437751004016, pvalue=0.9463063700822882),\n KendalltauResult(correlation=0.037301204819277116, pvalue=0.3796599952212928),\n KendalltauResult(correlation=0.0555642756239209, pvalue=0.16806496535220994),\n KendalltauResult(correlation=0.048082456966462614, pvalue=0.23293286315074024),\n KendalltauResult(correlation=-0.02686631736976732, pvalue=0.6716071375079069),\n KendalltauResult(correlation=0.05585224629329761, pvalue=0.3534660828201627))"
     },
     "execution_count": 89,
     "metadata": {},
     "output_type": "execute_result"
    }
   ],
   "source": [
    "# kendalltau\n",
    "roberta_large_roberta_base_kendalltau = (scipy.stats.kendalltau(dev1_t_line, dev2_t_line), scipy.stats.kendalltau(dev1_f_line, dev2_f_line), scipy.stats.kendalltau(test1_t_line, test2_t_line), scipy.stats.kendalltau(test1_f_line, test2_f_line), scipy.stats.kendalltau(dev1_label, dev2_label), scipy.stats.kendalltau(test1_label, test2_label))\n",
    "roberta_large_roberta_base_kendalltau"
   ],
   "metadata": {
    "collapsed": false
   }
  },
  {
   "cell_type": "code",
   "execution_count": 81,
   "outputs": [],
   "source": [],
   "metadata": {
    "collapsed": false
   }
  },
  {
   "cell_type": "code",
   "execution_count": 81,
   "outputs": [],
   "source": [],
   "metadata": {
    "collapsed": false
   }
  },
  {
   "cell_type": "code",
   "execution_count": null,
   "outputs": [],
   "source": [],
   "metadata": {
    "collapsed": false,
    "pycharm": {
     "is_executing": true
    }
   }
  },
  {
   "cell_type": "code",
   "execution_count": 81,
   "outputs": [],
   "source": [],
   "metadata": {
    "collapsed": false
   }
  }
 ],
 "metadata": {
  "kernelspec": {
   "display_name": "Python 3",
   "language": "python",
   "name": "python3"
  },
  "language_info": {
   "codemirror_mode": {
    "name": "ipython",
    "version": 2
   },
   "file_extension": ".py",
   "mimetype": "text/x-python",
   "name": "python",
   "nbconvert_exporter": "python",
   "pygments_lexer": "ipython2",
   "version": "2.7.6"
  }
 },
 "nbformat": 4,
 "nbformat_minor": 0
}
