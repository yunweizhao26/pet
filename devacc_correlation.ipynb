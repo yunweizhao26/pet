{
 "cells": [
  {
   "cell_type": "code",
   "execution_count": 116,
   "metadata": {
    "collapsed": true
   },
   "outputs": [],
   "source": [
    "import json\n",
    "import collections\n",
    "import numpy as np\n",
    "import scipy.stats\n",
    "\n",
    "num_prompts = 10\n",
    "model1 = \"deberta-v3-base\"\n",
    "model2 = \"deberta-v3-large\"\n",
    "rte_model_address = \"./experiments/rte/{}/supervised/\"\n",
    "setup_name = \"32shots-p{}-i0-seed42/\"\n",
    "\n",
    "def read_accuracy(address):\n",
    "    with open(address + \"results.json\") as f:\n",
    "        tmp = json.load(f)\n",
    "    return tmp['dev_set_after_training']['acc'], tmp['test_set_after_training']['acc']\n",
    "models = [\"roberta-large\", \"roberta-base\", \"deberta-v3-base\", \"deberta-v3-large\", \"T5-base\", \"T5-11B\"]"
   ]
  },
  {
   "cell_type": "code",
   "execution_count": 117,
   "outputs": [],
   "source": [
    "# Accuracy\n",
    "model1_dev_acc, model1_test_acc, model2_dev_acc, model2_test_acc = [], [], [], []\n",
    "for i in range(num_prompts):\n",
    "    dev1_acc, test1_acc = read_accuracy(rte_model_address.format(model1) + setup_name.format(i))\n",
    "    dev2_acc, test2_acc = read_accuracy(rte_model_address.format(model2) + setup_name.format(i))\n",
    "    model1_dev_acc.append(dev1_acc)\n",
    "    model1_test_acc.append(test1_acc)\n",
    "    model2_dev_acc.append(dev2_acc)\n",
    "    model2_test_acc.append(test2_acc)"
   ],
   "metadata": {
    "collapsed": false
   }
  },
  {
   "cell_type": "code",
   "execution_count": 118,
   "outputs": [
    {
     "data": {
      "text/plain": "((0.8574021489638177, 0.0015174361481669982),\n (0.8097377768954448, 0.004525084592242043))"
     },
     "execution_count": 118,
     "metadata": {},
     "output_type": "execute_result"
    }
   ],
   "source": [
    "# pearsonr\n",
    "roberta_large_roberta_base_pearsonr = (scipy.stats.pearsonr(model1_dev_acc, model2_dev_acc), scipy.stats.pearsonr(model1_test_acc, model2_test_acc))\n",
    "roberta_large_roberta_base_pearsonr"
   ],
   "metadata": {
    "collapsed": false
   }
  },
  {
   "cell_type": "code",
   "execution_count": 119,
   "outputs": [
    {
     "data": {
      "text/plain": "(SpearmanrResult(correlation=0.8333492104318903, pvalue=0.0027453959942271722),\n SpearmanrResult(correlation=0.7859363967596924, pvalue=0.007030735401842157))"
     },
     "execution_count": 119,
     "metadata": {},
     "output_type": "execute_result"
    }
   ],
   "source": [
    "# spearmanr\n",
    "roberta_large_roberta_base_spearmanr = (scipy.stats.spearmanr(model1_dev_acc, model2_dev_acc), scipy.stats.spearmanr(model1_test_acc, model2_test_acc))\n",
    "roberta_large_roberta_base_spearmanr"
   ],
   "metadata": {
    "collapsed": false
   }
  },
  {
   "cell_type": "code",
   "execution_count": 120,
   "outputs": [
    {
     "data": {
      "text/plain": "(KendalltauResult(correlation=0.7059312080025176, pvalue=0.006056273869219234),\n KendalltauResult(correlation=0.6897007348075543, pvalue=0.006616023243112296))"
     },
     "execution_count": 120,
     "metadata": {},
     "output_type": "execute_result"
    }
   ],
   "source": [
    "# kendalltau\n",
    "roberta_large_roberta_base_kendalltau = (scipy.stats.kendalltau(model1_dev_acc, model2_dev_acc), scipy.stats.kendalltau(model1_test_acc, model2_test_acc))\n",
    "roberta_large_roberta_base_kendalltau"
   ],
   "metadata": {
    "collapsed": false
   }
  },
  {
   "cell_type": "code",
   "execution_count": 38,
   "outputs": [],
   "source": [],
   "metadata": {
    "collapsed": false
   }
  },
  {
   "cell_type": "code",
   "execution_count": 10,
   "outputs": [],
   "source": [],
   "metadata": {
    "collapsed": false
   }
  }
 ],
 "metadata": {
  "kernelspec": {
   "display_name": "Python 3",
   "language": "python",
   "name": "python3"
  },
  "language_info": {
   "codemirror_mode": {
    "name": "ipython",
    "version": 2
   },
   "file_extension": ".py",
   "mimetype": "text/x-python",
   "name": "python",
   "nbconvert_exporter": "python",
   "pygments_lexer": "ipython2",
   "version": "2.7.6"
  }
 },
 "nbformat": 4,
 "nbformat_minor": 0
}
