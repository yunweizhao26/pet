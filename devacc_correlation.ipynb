{
 "cells": [
  {
   "cell_type": "code",
   "execution_count": 1,
   "metadata": {
    "collapsed": true,
    "pycharm": {
     "name": "#%%\n"
    }
   },
   "outputs": [],
   "source": [
    "import json\n",
    "import collections\n",
    "import numpy as np\n",
    "import scipy.stats\n",
    "\n",
    "num_prompts = 27\n",
    "seeds = [0, 42, 23]\n",
    "model1 = \"deberta-v3-base\"\n",
    "model2 = \"deberta-v3-large\"\n",
    "rte_model_address = \"./experiments/rte/{}/supervised/\"\n",
    "setup_name = \"32shots-p{}-i0-seed{}/\"\n",
    "\n",
    "def read_accuracy(address, model):\n",
    "    if model in [\"T5-base\", \"T5-11B\"]:\n",
    "        return -1\n",
    "    else:\n",
    "        with open(address + \"results.json\") as f:\n",
    "            tmp = json.load(f)\n",
    "        return tmp['dev_set_after_training']['acc']\n",
    "models = [\"roberta-large\", \"roberta-base\", \"deberta-v3-base\", \"deberta-v3-large\", \"T5-base\", \"T5-11B\"]\n",
    "model_combs = []\n",
    "for i in range(len(models)):\n",
    "    for j in range(i+1, len(models)):\n",
    "        model_combs.append((models[i], models[j]))"
   ]
  },
  {
   "cell_type": "code",
   "execution_count": 117,
   "outputs": [],
   "source": [
    "# Accuracy\n",
    "for model_pair in model_combs:\n",
    "    model1_dev_acc, model1_test_acc, model2_dev_acc, model2_test_acc = [], [], [], []\n",
    "    model1 = model_pair[0]\n",
    "    model2 = model_pair[1]\n",
    "    for i in range(num_prompts):\n",
    "        avg_dev1_acc, avg_dev2_acc =\n",
    "        for seed in seeds:\n",
    "            dev1_acc = read_accuracy(rte_model_address.format(model1) + setup_name.format(i, seed), model1)\n",
    "            dev2_acc = read_accuracy(rte_model_address.format(model2) + setup_name.format(i, seed), model2)\n",
    "            if dev1_acc == -1:\n",
    "                dev1_acc =\n",
    "        model1_dev_acc.append(dev1_acc)\n",
    "        model2_dev_acc.append(dev2_acc)\n",
    "    # pearsonr\n",
    "    pearsonr = (scipy.stats.pearsonr(model1_dev_acc, model2_dev_acc))\n",
    "    # spearmanr\n",
    "    spearmanr = (scipy.stats.spearmanr(model1_dev_acc, model2_dev_acc))\n",
    "    # kendalltau\n",
    "    kendalltau = (scipy.stats.kendalltau(model1_dev_acc, model2_dev_acc))\n",
    "    print(f\"{model1}, {model2} :\\n pearsonr:{pearsonr} \\n spearmanr: {spearmanr} \\n kendalltau: {kendalltau}\")\n"
   ],
   "metadata": {
    "collapsed": false,
    "pycharm": {
     "name": "#%%\n"
    }
   }
  },
  {
   "cell_type": "code",
   "execution_count": 118,
   "outputs": [
    {
     "data": {
      "text/plain": "((0.8574021489638177, 0.0015174361481669982),\n (0.8097377768954448, 0.004525084592242043))"
     },
     "execution_count": 118,
     "metadata": {},
     "output_type": "execute_result"
    }
   ],
   "source": [],
   "metadata": {
    "collapsed": false,
    "pycharm": {
     "name": "#%%\n"
    }
   }
  },
  {
   "cell_type": "code",
   "execution_count": 119,
   "outputs": [
    {
     "data": {
      "text/plain": "(SpearmanrResult(correlation=0.8333492104318903, pvalue=0.0027453959942271722),\n SpearmanrResult(correlation=0.7859363967596924, pvalue=0.007030735401842157))"
     },
     "execution_count": 119,
     "metadata": {},
     "output_type": "execute_result"
    }
   ],
   "source": [],
   "metadata": {
    "collapsed": false,
    "pycharm": {
     "name": "#%%\n"
    }
   }
  },
  {
   "cell_type": "code",
   "execution_count": 120,
   "outputs": [
    {
     "data": {
      "text/plain": "(KendalltauResult(correlation=0.7059312080025176, pvalue=0.006056273869219234),\n KendalltauResult(correlation=0.6897007348075543, pvalue=0.006616023243112296))"
     },
     "execution_count": 120,
     "metadata": {},
     "output_type": "execute_result"
    }
   ],
   "source": [],
   "metadata": {
    "collapsed": false,
    "pycharm": {
     "name": "#%%\n"
    }
   }
  },
  {
   "cell_type": "code",
   "execution_count": 38,
   "outputs": [],
   "source": [],
   "metadata": {
    "collapsed": false,
    "pycharm": {
     "name": "#%%\n"
    }
   }
  },
  {
   "cell_type": "code",
   "execution_count": 10,
   "outputs": [],
   "source": [],
   "metadata": {
    "collapsed": false,
    "pycharm": {
     "name": "#%%\n"
    }
   }
  }
 ],
 "metadata": {
  "kernelspec": {
   "display_name": "Python 3",
   "language": "python",
   "name": "python3"
  },
  "language_info": {
   "codemirror_mode": {
    "name": "ipython",
    "version": 2
   },
   "file_extension": ".py",
   "mimetype": "text/x-python",
   "name": "python",
   "nbconvert_exporter": "python",
   "pygments_lexer": "ipython2",
   "version": "2.7.6"
  }
 },
 "nbformat": 4,
 "nbformat_minor": 0
}